{
 "cells": [
  {
   "cell_type": "markdown",
   "metadata": {},
   "source": [
    "# Using this file to Join the OPEN ICPSR tweet dataset with downloaded tweet texts using the tweet_id"
   ]
  },
  {
   "cell_type": "code",
   "execution_count": 45,
   "metadata": {},
   "outputs": [],
   "source": [
    "import pandas as pd\n",
    "tweets = pd.read_csv('cleaned_tweets_int_id.csv', error_bad_lines=False, keep_default_na=False)"
   ]
  },
  {
   "cell_type": "code",
   "execution_count": 46,
   "metadata": {},
   "outputs": [
    {
     "data": {
      "text/plain": [
       "929337"
      ]
     },
     "execution_count": 46,
     "metadata": {},
     "output_type": "execute_result"
    }
   ],
   "source": [
    "len(tweets)"
   ]
  },
  {
   "cell_type": "code",
   "execution_count": 47,
   "metadata": {},
   "outputs": [
    {
     "data": {
      "text/plain": [
       "tweet_id     int64\n",
       " text       object\n",
       "dtype: object"
      ]
     },
     "execution_count": 47,
     "metadata": {},
     "output_type": "execute_result"
    }
   ],
   "source": [
    "tweets.dtypes"
   ]
  },
  {
   "cell_type": "code",
   "execution_count": 49,
   "metadata": {},
   "outputs": [
    {
     "data": {
      "text/plain": [
       "909414"
      ]
     },
     "execution_count": 49,
     "metadata": {},
     "output_type": "execute_result"
    }
   ],
   "source": [
    "tweets.tweet_id.nunique()"
   ]
  },
  {
   "cell_type": "code",
   "execution_count": 51,
   "metadata": {},
   "outputs": [],
   "source": [
    "tweets.drop_duplicates(subset=['tweet_id'], keep='first', inplace=True)"
   ]
  },
  {
   "cell_type": "code",
   "execution_count": 53,
   "metadata": {},
   "outputs": [
    {
     "data": {
      "text/plain": [
       "909414"
      ]
     },
     "execution_count": 53,
     "metadata": {},
     "output_type": "execute_result"
    }
   ],
   "source": [
    "tweets.tweet_id.nunique()"
   ]
  },
  {
   "cell_type": "code",
   "execution_count": 54,
   "metadata": {},
   "outputs": [],
   "source": [
    "tweets.to_csv('cleaned_tweets_v2_no_duplicates.csv', index=False)"
   ]
  },
  {
   "cell_type": "code",
   "execution_count": 56,
   "metadata": {},
   "outputs": [],
   "source": [
    "tweets_with_labels = pd.read_csv('openicpsr/tweets_us.csv', error_bad_lines=False, keep_default_na=False)"
   ]
  },
  {
   "cell_type": "code",
   "execution_count": 57,
   "metadata": {},
   "outputs": [
    {
     "data": {
      "text/html": [
       "<div>\n",
       "<style scoped>\n",
       "    .dataframe tbody tr th:only-of-type {\n",
       "        vertical-align: middle;\n",
       "    }\n",
       "\n",
       "    .dataframe tbody tr th {\n",
       "        vertical-align: top;\n",
       "    }\n",
       "\n",
       "    .dataframe thead th {\n",
       "        text-align: right;\n",
       "    }\n",
       "</style>\n",
       "<table border=\"1\" class=\"dataframe\">\n",
       "  <thead>\n",
       "    <tr style=\"text-align: right;\">\n",
       "      <th></th>\n",
       "      <th>tweet_id</th>\n",
       "      <th>user_id</th>\n",
       "      <th>tweet_timestamp</th>\n",
       "      <th>keyword</th>\n",
       "      <th>valence_intensity</th>\n",
       "      <th>fear_intensity</th>\n",
       "      <th>anger_intensity</th>\n",
       "      <th>happiness_intensity</th>\n",
       "      <th>sadness_intensity</th>\n",
       "      <th>sentiment</th>\n",
       "      <th>emotion</th>\n",
       "    </tr>\n",
       "  </thead>\n",
       "  <tbody>\n",
       "    <tr>\n",
       "      <th>0</th>\n",
       "      <td>1221958334661779458</td>\n",
       "      <td>18527874</td>\n",
       "      <td>2020-01-27 16-49-04</td>\n",
       "      <td>wuhan</td>\n",
       "      <td>0.513</td>\n",
       "      <td>0.550</td>\n",
       "      <td>0.358</td>\n",
       "      <td>0.364</td>\n",
       "      <td>0.344</td>\n",
       "      <td>neutral or mixed</td>\n",
       "      <td>no specific emotion</td>\n",
       "    </tr>\n",
       "    <tr>\n",
       "      <th>1</th>\n",
       "      <td>1221959351461720064</td>\n",
       "      <td>35527998</td>\n",
       "      <td>2020-01-27 16-53-06</td>\n",
       "      <td>wuhan</td>\n",
       "      <td>0.526</td>\n",
       "      <td>0.387</td>\n",
       "      <td>0.421</td>\n",
       "      <td>0.364</td>\n",
       "      <td>0.368</td>\n",
       "      <td>positive</td>\n",
       "      <td>happiness</td>\n",
       "    </tr>\n",
       "    <tr>\n",
       "      <th>2</th>\n",
       "      <td>1221959956951224320</td>\n",
       "      <td>415915436</td>\n",
       "      <td>2020-01-27 16-55-31</td>\n",
       "      <td>wuhan</td>\n",
       "      <td>0.578</td>\n",
       "      <td>0.328</td>\n",
       "      <td>0.280</td>\n",
       "      <td>0.440</td>\n",
       "      <td>0.383</td>\n",
       "      <td>positive</td>\n",
       "      <td>happiness</td>\n",
       "    </tr>\n",
       "    <tr>\n",
       "      <th>3</th>\n",
       "      <td>1221961233026281472</td>\n",
       "      <td>22586384</td>\n",
       "      <td>2020-01-27 17-00-35</td>\n",
       "      <td>wuhan</td>\n",
       "      <td>0.497</td>\n",
       "      <td>0.464</td>\n",
       "      <td>0.431</td>\n",
       "      <td>0.339</td>\n",
       "      <td>0.388</td>\n",
       "      <td>neutral or mixed</td>\n",
       "      <td>no specific emotion</td>\n",
       "    </tr>\n",
       "    <tr>\n",
       "      <th>4</th>\n",
       "      <td>1221961678058926080</td>\n",
       "      <td>2399087653</td>\n",
       "      <td>2020-01-27 17-02-21</td>\n",
       "      <td>wuhan</td>\n",
       "      <td>0.448</td>\n",
       "      <td>0.449</td>\n",
       "      <td>0.425</td>\n",
       "      <td>0.291</td>\n",
       "      <td>0.474</td>\n",
       "      <td>negative</td>\n",
       "      <td>sadness</td>\n",
       "    </tr>\n",
       "  </tbody>\n",
       "</table>\n",
       "</div>"
      ],
      "text/plain": [
       "              tweet_id     user_id      tweet_timestamp keyword  \\\n",
       "0  1221958334661779458    18527874  2020-01-27 16-49-04   wuhan   \n",
       "1  1221959351461720064    35527998  2020-01-27 16-53-06   wuhan   \n",
       "2  1221959956951224320   415915436  2020-01-27 16-55-31   wuhan   \n",
       "3  1221961233026281472    22586384  2020-01-27 17-00-35   wuhan   \n",
       "4  1221961678058926080  2399087653  2020-01-27 17-02-21   wuhan   \n",
       "\n",
       "   valence_intensity  fear_intensity  anger_intensity  happiness_intensity  \\\n",
       "0              0.513           0.550            0.358                0.364   \n",
       "1              0.526           0.387            0.421                0.364   \n",
       "2              0.578           0.328            0.280                0.440   \n",
       "3              0.497           0.464            0.431                0.339   \n",
       "4              0.448           0.449            0.425                0.291   \n",
       "\n",
       "   sadness_intensity         sentiment              emotion  \n",
       "0              0.344  neutral or mixed  no specific emotion  \n",
       "1              0.368          positive            happiness  \n",
       "2              0.383          positive            happiness  \n",
       "3              0.388  neutral or mixed  no specific emotion  \n",
       "4              0.474          negative              sadness  "
      ]
     },
     "execution_count": 57,
     "metadata": {},
     "output_type": "execute_result"
    }
   ],
   "source": [
    "tweets_with_labels.head()"
   ]
  },
  {
   "cell_type": "code",
   "execution_count": 59,
   "metadata": {},
   "outputs": [
    {
     "data": {
      "text/plain": [
       "54380875"
      ]
     },
     "execution_count": 59,
     "metadata": {},
     "output_type": "execute_result"
    }
   ],
   "source": [
    "tweets_with_labels.tweet_id.nunique()"
   ]
  },
  {
   "cell_type": "code",
   "execution_count": 60,
   "metadata": {},
   "outputs": [
    {
     "data": {
      "text/plain": [
       "tweet_id                 int64\n",
       "user_id                  int64\n",
       "tweet_timestamp         object\n",
       "keyword                 object\n",
       "valence_intensity      float64\n",
       "fear_intensity         float64\n",
       "anger_intensity        float64\n",
       "happiness_intensity    float64\n",
       "sadness_intensity      float64\n",
       "sentiment               object\n",
       "emotion                 object\n",
       "dtype: object"
      ]
     },
     "execution_count": 60,
     "metadata": {},
     "output_type": "execute_result"
    }
   ],
   "source": [
    "tweets_with_labels.dtypes"
   ]
  },
  {
   "cell_type": "code",
   "execution_count": 62,
   "metadata": {},
   "outputs": [],
   "source": [
    "tweet_with_text = pd.merge(tweets, tweets_with_labels, on='tweet_id')"
   ]
  },
  {
   "cell_type": "code",
   "execution_count": 63,
   "metadata": {},
   "outputs": [
    {
     "data": {
      "text/html": [
       "<div>\n",
       "<style scoped>\n",
       "    .dataframe tbody tr th:only-of-type {\n",
       "        vertical-align: middle;\n",
       "    }\n",
       "\n",
       "    .dataframe tbody tr th {\n",
       "        vertical-align: top;\n",
       "    }\n",
       "\n",
       "    .dataframe thead th {\n",
       "        text-align: right;\n",
       "    }\n",
       "</style>\n",
       "<table border=\"1\" class=\"dataframe\">\n",
       "  <thead>\n",
       "    <tr style=\"text-align: right;\">\n",
       "      <th></th>\n",
       "      <th>tweet_id</th>\n",
       "      <th>text</th>\n",
       "      <th>user_id</th>\n",
       "      <th>tweet_timestamp</th>\n",
       "      <th>keyword</th>\n",
       "      <th>valence_intensity</th>\n",
       "      <th>fear_intensity</th>\n",
       "      <th>anger_intensity</th>\n",
       "      <th>happiness_intensity</th>\n",
       "      <th>sadness_intensity</th>\n",
       "      <th>sentiment</th>\n",
       "      <th>emotion</th>\n",
       "    </tr>\n",
       "  </thead>\n",
       "  <tbody>\n",
       "    <tr>\n",
       "      <th>0</th>\n",
       "      <td>1222012694011629568</td>\n",
       "      <td>The Wuhan Virus: How to Stay Safe</td>\n",
       "      <td>86732334</td>\n",
       "      <td>2020-01-27 20-25-04</td>\n",
       "      <td>wuhan</td>\n",
       "      <td>0.384</td>\n",
       "      <td>0.572</td>\n",
       "      <td>0.358</td>\n",
       "      <td>0.195</td>\n",
       "      <td>0.453</td>\n",
       "      <td>negative</td>\n",
       "      <td>fear</td>\n",
       "    </tr>\n",
       "    <tr>\n",
       "      <th>1</th>\n",
       "      <td>1222070690007920640</td>\n",
       "      <td>@Jimmyjude13 Well I mean...</td>\n",
       "      <td>4379240362</td>\n",
       "      <td>2020-01-28 00-15-32</td>\n",
       "      <td>wuhan</td>\n",
       "      <td>0.460</td>\n",
       "      <td>0.359</td>\n",
       "      <td>0.435</td>\n",
       "      <td>0.276</td>\n",
       "      <td>0.406</td>\n",
       "      <td>negative</td>\n",
       "      <td>anger</td>\n",
       "    </tr>\n",
       "    <tr>\n",
       "      <th>2</th>\n",
       "      <td>1222070757120974849</td>\n",
       "      <td>US to expand virus screening at 20 airports fo...</td>\n",
       "      <td>14268564</td>\n",
       "      <td>2020-01-28 00-15-48</td>\n",
       "      <td>wuhan</td>\n",
       "      <td>0.443</td>\n",
       "      <td>0.459</td>\n",
       "      <td>0.410</td>\n",
       "      <td>0.278</td>\n",
       "      <td>0.369</td>\n",
       "      <td>negative</td>\n",
       "      <td>fear</td>\n",
       "    </tr>\n",
       "    <tr>\n",
       "      <th>3</th>\n",
       "      <td>1222070810581655553</td>\n",
       "      <td>@DrOz: Reports surrounding coronavirus have be...</td>\n",
       "      <td>1525512522</td>\n",
       "      <td>2020-01-28 00-16-00</td>\n",
       "      <td>wuhan</td>\n",
       "      <td>0.403</td>\n",
       "      <td>0.520</td>\n",
       "      <td>0.448</td>\n",
       "      <td>0.224</td>\n",
       "      <td>0.449</td>\n",
       "      <td>negative</td>\n",
       "      <td>fear</td>\n",
       "    </tr>\n",
       "    <tr>\n",
       "      <th>4</th>\n",
       "      <td>1222070816076107781</td>\n",
       "      <td>Wuhan in lock down: I speak with Wayne Dupleis...</td>\n",
       "      <td>27443744</td>\n",
       "      <td>2020-01-28 00-16-02</td>\n",
       "      <td>wuhan</td>\n",
       "      <td>0.503</td>\n",
       "      <td>0.465</td>\n",
       "      <td>0.378</td>\n",
       "      <td>0.338</td>\n",
       "      <td>0.409</td>\n",
       "      <td>neutral or mixed</td>\n",
       "      <td>no specific emotion</td>\n",
       "    </tr>\n",
       "  </tbody>\n",
       "</table>\n",
       "</div>"
      ],
      "text/plain": [
       "              tweet_id                                               text  \\\n",
       "0  1222012694011629568                  The Wuhan Virus: How to Stay Safe   \n",
       "1  1222070690007920640                        @Jimmyjude13 Well I mean...   \n",
       "2  1222070757120974849  US to expand virus screening at 20 airports fo...   \n",
       "3  1222070810581655553  @DrOz: Reports surrounding coronavirus have be...   \n",
       "4  1222070816076107781  Wuhan in lock down: I speak with Wayne Dupleis...   \n",
       "\n",
       "      user_id      tweet_timestamp keyword  valence_intensity  fear_intensity  \\\n",
       "0    86732334  2020-01-27 20-25-04   wuhan              0.384           0.572   \n",
       "1  4379240362  2020-01-28 00-15-32   wuhan              0.460           0.359   \n",
       "2    14268564  2020-01-28 00-15-48   wuhan              0.443           0.459   \n",
       "3  1525512522  2020-01-28 00-16-00   wuhan              0.403           0.520   \n",
       "4    27443744  2020-01-28 00-16-02   wuhan              0.503           0.465   \n",
       "\n",
       "   anger_intensity  happiness_intensity  sadness_intensity         sentiment  \\\n",
       "0            0.358                0.195              0.453          negative   \n",
       "1            0.435                0.276              0.406          negative   \n",
       "2            0.410                0.278              0.369          negative   \n",
       "3            0.448                0.224              0.449          negative   \n",
       "4            0.378                0.338              0.409  neutral or mixed   \n",
       "\n",
       "               emotion  \n",
       "0                 fear  \n",
       "1                anger  \n",
       "2                 fear  \n",
       "3                 fear  \n",
       "4  no specific emotion  "
      ]
     },
     "execution_count": 63,
     "metadata": {},
     "output_type": "execute_result"
    }
   ],
   "source": [
    "tweet_with_text.head()"
   ]
  },
  {
   "cell_type": "code",
   "execution_count": 64,
   "metadata": {},
   "outputs": [
    {
     "data": {
      "text/plain": [
       "928881"
      ]
     },
     "execution_count": 64,
     "metadata": {},
     "output_type": "execute_result"
    }
   ],
   "source": [
    "len(tweet_with_text)"
   ]
  },
  {
   "cell_type": "code",
   "execution_count": 65,
   "metadata": {},
   "outputs": [],
   "source": [
    "tweet_with_text.to_csv('tweets_with_labels.csv', index=False)"
   ]
  }
 ],
 "metadata": {
  "interpreter": {
   "hash": "76151e79cefb538d26e0ac20cab84a12eea6e25ce784e0ed556c5326f4fadd14"
  },
  "kernelspec": {
   "display_name": "Python 3.8.5 64-bit ('base': conda)",
   "language": "python",
   "name": "python3"
  },
  "language_info": {
   "codemirror_mode": {
    "name": "ipython",
    "version": 3
   },
   "file_extension": ".py",
   "mimetype": "text/x-python",
   "name": "python",
   "nbconvert_exporter": "python",
   "pygments_lexer": "ipython3",
   "version": "3.8.5"
  },
  "orig_nbformat": 4
 },
 "nbformat": 4,
 "nbformat_minor": 2
}
