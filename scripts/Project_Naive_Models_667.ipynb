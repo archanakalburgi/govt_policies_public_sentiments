{
  "nbformat": 4,
  "nbformat_minor": 0,
  "metadata": {
    "colab": {
      "name": "Project-Naive Models_667.ipynb",
      "provenance": [],
      "collapsed_sections": []
    },
    "kernelspec": {
      "name": "python3",
      "display_name": "Python 3"
    },
    "language_info": {
      "name": "python"
    }
  },
  "cells": [
    {
      "cell_type": "code",
      "metadata": {
        "colab": {
          "base_uri": "https://localhost:8080/"
        },
        "id": "BQ0bIQ2IKY7r",
        "outputId": "ddcb3271-782a-4292-80c4-65ef1d6d17b7"
      },
      "source": [
        "!pip install snscrape"
      ],
      "execution_count": null,
      "outputs": [
        {
          "output_type": "stream",
          "name": "stdout",
          "text": [
            "Collecting snscrape\n",
            "  Downloading snscrape-0.3.4-py3-none-any.whl (35 kB)\n",
            "Requirement already satisfied: requests[socks] in /usr/local/lib/python3.7/dist-packages (from snscrape) (2.23.0)\n",
            "Requirement already satisfied: lxml in /usr/local/lib/python3.7/dist-packages (from snscrape) (4.2.6)\n",
            "Requirement already satisfied: beautifulsoup4 in /usr/local/lib/python3.7/dist-packages (from snscrape) (4.6.3)\n",
            "Requirement already satisfied: urllib3!=1.25.0,!=1.25.1,<1.26,>=1.21.1 in /usr/local/lib/python3.7/dist-packages (from requests[socks]->snscrape) (1.24.3)\n",
            "Requirement already satisfied: certifi>=2017.4.17 in /usr/local/lib/python3.7/dist-packages (from requests[socks]->snscrape) (2021.10.8)\n",
            "Requirement already satisfied: idna<3,>=2.5 in /usr/local/lib/python3.7/dist-packages (from requests[socks]->snscrape) (2.10)\n",
            "Requirement already satisfied: chardet<4,>=3.0.2 in /usr/local/lib/python3.7/dist-packages (from requests[socks]->snscrape) (3.0.4)\n",
            "Requirement already satisfied: PySocks!=1.5.7,>=1.5.6 in /usr/local/lib/python3.7/dist-packages (from requests[socks]->snscrape) (1.7.1)\n",
            "Installing collected packages: snscrape\n",
            "Successfully installed snscrape-0.3.4\n"
          ]
        }
      ]
    },
    {
      "cell_type": "code",
      "metadata": {
        "colab": {
          "base_uri": "https://localhost:8080/"
        },
        "id": "h3TLbK3IKKUA",
        "outputId": "10d639fd-7122-461c-986f-92fcdde6a945"
      },
      "source": [
        "import snscrape.modules.twitter as sntwitter\n",
        "from textblob import TextBlob\n",
        "from wordcloud import WordCloud\n",
        "import pandas as pd\n",
        "import numpy as np\n",
        "import re\n",
        "import string\n",
        "\n",
        "import matplotlib.pyplot as plt\n",
        "plt.style.use('fivethirtyeight')\n",
        "\n",
        "from sklearn.feature_extraction.text import TfidfVectorizer\n",
        "from sklearn.model_selection import train_test_split\n",
        "from sklearn.metrics import accuracy_score\n",
        "import json, nltk\n",
        "import seaborn as sns\n",
        "nltk.download('wordnet')"
      ],
      "execution_count": null,
      "outputs": [
        {
          "output_type": "stream",
          "name": "stdout",
          "text": [
            "[nltk_data] Downloading package wordnet to /root/nltk_data...\n",
            "[nltk_data]   Unzipping corpora/wordnet.zip.\n"
          ]
        },
        {
          "output_type": "execute_result",
          "data": {
            "text/plain": [
              "True"
            ]
          },
          "metadata": {},
          "execution_count": 2
        }
      ]
    },
    {
      "cell_type": "code",
      "metadata": {
        "id": "AOzdH2OCKdt5"
      },
      "source": [
        "train_data = pd.read_csv(\"Train_data.csv\")\n",
        "test_data = pd.read_csv(\"T_Test.csv\")\n",
        "Policy_1= pd.read_csv(\"Business_Restriction.csv\")\n",
        "Policy_2 = pd.read_csv(\"Health_Testing.csv\")\n",
        "Policy_3 = pd.read_csv(\"Lockdown.csv\")\n",
        "Policy_4 = pd.read_csv(\"Mask_Mandate.csv\")\n",
        "Policy_5 = pd.read_csv(\"Mass_Gathering.csv\")\n",
        "Policy_6 = pd.read_csv(\"Vaccine.csv\")"
      ],
      "execution_count": null,
      "outputs": []
    },
    {
      "cell_type": "code",
      "source": [
        "train_data = train_data.dropna(axis = 0)"
      ],
      "metadata": {
        "id": "v5_60OzcEMsY"
      },
      "execution_count": null,
      "outputs": []
    },
    {
      "cell_type": "code",
      "source": [
        "#Taking only limited amount of tweets cause SVM execution times are arbitrary and can take for ever to run\n",
        "train_data = train_data.head(30000)"
      ],
      "metadata": {
        "id": "raWByrJlv1hs"
      },
      "execution_count": null,
      "outputs": []
    },
    {
      "cell_type": "code",
      "source": [
        "train_data.emotion.value_counts()"
      ],
      "metadata": {
        "colab": {
          "base_uri": "https://localhost:8080/"
        },
        "id": "FeMAwUSarUNj",
        "outputId": "6b2cdf88-61cb-425c-d08d-77f99d0b6028"
      },
      "execution_count": null,
      "outputs": [
        {
          "output_type": "execute_result",
          "data": {
            "text/plain": [
              "fear                   14071\n",
              "anger                   5597\n",
              "happiness               4973\n",
              "no specific emotion     4597\n",
              "sadness                  762\n",
              "Name: emotion, dtype: int64"
            ]
          },
          "metadata": {},
          "execution_count": 30
        }
      ]
    },
    {
      "cell_type": "code",
      "source": [
        "from sklearn import preprocessing\n",
        "le = preprocessing.LabelEncoder()\n",
        "le.fit(train_data[\"emotion\"])"
      ],
      "metadata": {
        "colab": {
          "base_uri": "https://localhost:8080/"
        },
        "id": "ieQPCe2AnkaD",
        "outputId": "dabe9241-2afd-43a6-b8d6-7b133b600257"
      },
      "execution_count": null,
      "outputs": [
        {
          "output_type": "execute_result",
          "data": {
            "text/plain": [
              "LabelEncoder()"
            ]
          },
          "metadata": {},
          "execution_count": 31
        }
      ]
    },
    {
      "cell_type": "code",
      "source": [
        "train_data['emotion'] = le.transform(train_data[\"emotion\"])"
      ],
      "metadata": {
        "id": "h7z-tIY7nnCd"
      },
      "execution_count": null,
      "outputs": []
    },
    {
      "cell_type": "code",
      "source": [
        "train_data.emotion.value_counts()"
      ],
      "metadata": {
        "colab": {
          "base_uri": "https://localhost:8080/"
        },
        "id": "GIPHFKeEnpch",
        "outputId": "6598e3e3-907d-4bf3-9449-c5eee227c51d"
      },
      "execution_count": null,
      "outputs": [
        {
          "output_type": "execute_result",
          "data": {
            "text/plain": [
              "1    14071\n",
              "0     5597\n",
              "2     4973\n",
              "3     4597\n",
              "4      762\n",
              "Name: emotion, dtype: int64"
            ]
          },
          "metadata": {},
          "execution_count": 33
        }
      ]
    },
    {
      "cell_type": "code",
      "source": [
        "del train_data['tweet_id']\n",
        "del train_data['user_id']\n",
        "del train_data['tweet_timestamp']\n",
        "del train_data['keyword']\n",
        "del train_data['valence_intensity']\n",
        "del train_data['fear_intensity']\n",
        "del train_data['anger_intensity']\n",
        "del train_data['happiness_intensity']\n",
        "del train_data['sadness_intensity']\n",
        "del train_data['sentiment']"
      ],
      "metadata": {
        "id": "_YUIhGiSnspT"
      },
      "execution_count": null,
      "outputs": []
    },
    {
      "cell_type": "code",
      "source": [
        "train_data = train_data.rename(columns = {' text': 'Tweets', 'emotion': 'Analysis'}, inplace= False)"
      ],
      "metadata": {
        "id": "b9r8mkXun4xR"
      },
      "execution_count": null,
      "outputs": []
    },
    {
      "cell_type": "code",
      "metadata": {
        "colab": {
          "base_uri": "https://localhost:8080/"
        },
        "id": "KA1vW-7QrhoT",
        "outputId": "5b5987f9-c261-465c-b753-9d01021ebe79"
      },
      "source": [
        "tweet = train_data.columns.values[0]\n",
        "sentiment = train_data.columns.values[1]\n",
        "ttweet = test_data.columns.values[0]\n",
        "tweet1 = Policy_1.columns.values[0]\n",
        "tweet2 = Policy_2.columns.values[0]\n",
        "tweet3 = Policy_3.columns.values[0]\n",
        "tweet4 = Policy_4.columns.values[0]\n",
        "tweet5 = Policy_5.columns.values[0]\n",
        "tweet6 = Policy_6.columns.values[0]\n",
        "tweet, sentiment, ttweet, tweet1, tweet2, tweet3, tweet4, tweet5, tweet6"
      ],
      "execution_count": null,
      "outputs": [
        {
          "output_type": "execute_result",
          "data": {
            "text/plain": [
              "('Tweets',\n",
              " 'Analysis',\n",
              " 'Tweets',\n",
              " 'Tweets',\n",
              " 'Tweets',\n",
              " 'Tweets',\n",
              " 'Tweets',\n",
              " 'Tweets',\n",
              " 'Tweets')"
            ]
          },
          "metadata": {},
          "execution_count": 36
        }
      ]
    },
    {
      "cell_type": "code",
      "metadata": {
        "id": "K36LTr_Yrm-m"
      },
      "source": [
        "def emoji(tweet):\n",
        "    \n",
        "    tweet = re.sub(r'(:\\s?\\)|:-\\)|\\(\\s?:|\\(-:|:\\'\\)|:O)', ' positiveemoji ', tweet)\n",
        "    tweet = re.sub(r'(:\\s?D|:-D|x-?D|X-?D)', ' positiveemoji ', tweet)\n",
        "    tweet = re.sub(r'(<3|:\\*)', ' positiveemoji ', tweet)\n",
        "    tweet = re.sub(r'(;-?\\)|;-?D|\\(-?;|@-\\))', ' positiveemoji ', tweet)\n",
        "    tweet = re.sub(r'(:\\s?\\(|:-\\(|\\)\\s?:|\\)-:|:-/|:-\\|)', ' negetiveemoji ', tweet)\n",
        "    tweet = re.sub(r'(:,\\(|:\\'\\(|:\"\\()', ' negetiveemoji ', tweet)\n",
        "    return tweet"
      ],
      "execution_count": null,
      "outputs": []
    },
    {
      "cell_type": "code",
      "metadata": {
        "id": "nW1wmmxcrwSE"
      },
      "source": [
        "import re\n",
        "\n",
        "def process_tweet(tweet):\n",
        "    tweet = tweet.lower()                                             \n",
        "    tweet = re.sub('@[^\\s]+', '', tweet)                              \n",
        "    tweet = re.sub('((www\\.[^\\s]+)|(https?://[^\\s]+))', ' ', tweet)   \n",
        "    tweet = re.sub(r'https?:\\/\\/\\S+', '', tweet)\n",
        "    tweet = re.sub(r\"\\d+\", \" \", str(tweet))                         \n",
        "    tweet = re.sub('&quot;',\" \", tweet)                              \n",
        "    tweet = emoji(tweet)                                              \n",
        "    tweet = re.sub(r\"\\b[a-zA-Z]\\b\", \"\", str(tweet))                   \n",
        "    #for word in tweet.split():\n",
        "        #if word.lower() in contractions:\n",
        "            #tweet = tweet.replace(word, contractions[word.lower()])   \n",
        "    tweet = re.sub(r\"[^\\w\\s]\", \" \", str(tweet))                       \n",
        "    tweet = re.sub(r'(.)\\1+', r'\\1\\1', tweet)                      \n",
        "    tweet = re.sub(r\"\\s+\", \" \", str(tweet))                              \n",
        "    return tweet"
      ],
      "execution_count": null,
      "outputs": []
    },
    {
      "cell_type": "code",
      "metadata": {
        "id": "uZjZCttM1lqD"
      },
      "source": [
        "train_data['processed_tweet'] = np.vectorize(process_tweet)(train_data[tweet])\n",
        "test_data['processed_tweet'] = np.vectorize(process_tweet)(test_data[tweet])\n",
        "Policy_1['processed_tweet'] = np.vectorize(process_tweet)(Policy_1[tweet])\n",
        "Policy_2['processed_tweet'] = np.vectorize(process_tweet)(Policy_2[tweet])\n",
        "Policy_3['processed_tweet'] = np.vectorize(process_tweet)(Policy_3[tweet])\n",
        "Policy_4['processed_tweet'] = np.vectorize(process_tweet)(Policy_4[tweet])\n",
        "Policy_5['processed_tweet'] = np.vectorize(process_tweet)(Policy_5[tweet])\n",
        "Policy_6['processed_tweet'] = np.vectorize(process_tweet)(Policy_6[tweet])"
      ],
      "execution_count": null,
      "outputs": []
    },
    {
      "cell_type": "code",
      "metadata": {
        "id": "B720PDJm2UQb"
      },
      "source": [
        "tokenized_tweet = train_data['processed_tweet'].apply(lambda x: x.split())\n",
        "tokenized_ttweet = test_data['processed_tweet'].apply(lambda x: x.split())\n",
        "tokenized_tweet1 = Policy_1['processed_tweet'].apply(lambda x: x.split())\n",
        "tokenized_tweet2 = Policy_2['processed_tweet'].apply(lambda x: x.split())\n",
        "tokenized_tweet3 = Policy_3['processed_tweet'].apply(lambda x: x.split())\n",
        "tokenized_tweet4 = Policy_4['processed_tweet'].apply(lambda x: x.split())\n",
        "tokenized_tweet5 = Policy_5['processed_tweet'].apply(lambda x: x.split())\n",
        "tokenized_tweet6 = Policy_6['processed_tweet'].apply(lambda x: x.split())\n",
        "\n",
        "#tokenized_ttweet.head()\n",
        "#tokenized_tweet.head()"
      ],
      "execution_count": null,
      "outputs": []
    },
    {
      "cell_type": "code",
      "metadata": {
        "id": "uMj7ccCw2qmh"
      },
      "source": [
        "# from nltk.stem.porter import *\n",
        "# stemmer = PorterStemmer()\n",
        "\n",
        "# tokenized_tweet = tokenized_tweet.apply(lambda x: [stemmer.stem(i) for i in x])\n",
        "# tokenized_tweet.head()"
      ],
      "execution_count": null,
      "outputs": []
    },
    {
      "cell_type": "code",
      "metadata": {
        "id": "3M06SdYw21ck"
      },
      "source": [
        " from nltk.stem.wordnet import WordNetLemmatizer\n",
        " lemmatizer = WordNetLemmatizer()\n",
        "\n",
        " tokenized_tweet = tokenized_tweet.apply(lambda x: [lemmatizer.lemmatize(i) for i in x])\n",
        " tokenized_ttweet = tokenized_ttweet.apply(lambda x: [lemmatizer.lemmatize(i) for i in x])\n",
        " tokenized_tweet1 = tokenized_tweet1.apply(lambda x: [lemmatizer.lemmatize(i) for i in x])\n",
        " tokenized_tweet2 = tokenized_tweet2.apply(lambda x: [lemmatizer.lemmatize(i) for i in x])\n",
        " tokenized_tweet3 = tokenized_tweet3.apply(lambda x: [lemmatizer.lemmatize(i) for i in x])\n",
        " tokenized_tweet4 = tokenized_tweet4.apply(lambda x: [lemmatizer.lemmatize(i) for i in x])\n",
        " tokenized_tweet5 = tokenized_tweet5.apply(lambda x: [lemmatizer.lemmatize(i) for i in x])\n",
        " tokenized_tweet6 = tokenized_tweet6.apply(lambda x: [lemmatizer.lemmatize(i) for i in x])\n",
        " #tokenized_tweet.head()"
      ],
      "execution_count": null,
      "outputs": []
    },
    {
      "cell_type": "code",
      "source": [
        " train_data['processed_tweet'] = tokenized_tweet"
      ],
      "metadata": {
        "colab": {
          "base_uri": "https://localhost:8080/"
        },
        "id": "vCPvoTgEzR52",
        "outputId": "d1f24a94-92f1-4cf2-91b3-1307c5c89d05"
      },
      "execution_count": null,
      "outputs": [
        {
          "output_type": "execute_result",
          "data": {
            "text/plain": [
              "0                         the wuhan virus how to stay safe\n",
              "1                                               well mean \n",
              "2        us to expand virus screening at airports for v...\n",
              "3         reports surrounding coronavirus have been cha...\n",
              "4        wuhan in lock down speak with wayne dupleiss c...\n",
              "                               ...                        \n",
              "30181    virus hit wuhan has two laboratories linked to...\n",
              "30182     eng sub chen qiushi wuhan is short of test ki...\n",
              "30183     hope theyre okay and the only corona they enc...\n",
              "30184                                 corona strikes again\n",
              "30185           corona vaccine comes in packs or justajoke\n",
              "Name: processed_tweet, Length: 30000, dtype: object"
            ]
          },
          "metadata": {},
          "execution_count": 50
        }
      ]
    },
    {
      "cell_type": "code",
      "metadata": {
        "colab": {
          "base_uri": "https://localhost:8080/"
        },
        "id": "tpitqEba21Yn",
        "outputId": "4d07cb2b-0c17-45dc-b203-8c1480f62ae9"
      },
      "source": [
        "nltk.download(\"stopwords\")\n",
        "from nltk.corpus import stopwords\n",
        "stop_words = set(stopwords.words('english'))"
      ],
      "execution_count": null,
      "outputs": [
        {
          "output_type": "stream",
          "name": "stdout",
          "text": [
            "[nltk_data] Downloading package stopwords to /root/nltk_data...\n",
            "[nltk_data]   Package stopwords is already up-to-date!\n"
          ]
        }
      ]
    },
    {
      "cell_type": "markdown",
      "source": [
        "**Not working**"
      ],
      "metadata": {
        "id": "6ItsGltaQA4R"
      }
    },
    {
      "cell_type": "code",
      "source": [
        "'''\n",
        " for i in range(len(tokenized_tweet)):\n",
        "    \n",
        "#     # Below code is used for no stop word removal\n",
        "      tokenized_tweet[i] = ' '.join(tokenized_tweet[i]) \n",
        "    \n",
        "#     # Used for stop word removal \n",
        "#     # (Below is commented out as sentiment analysis is giving better accuracy without removing stop words.\n",
        "#     # If you still want to check, comment out the above line, uncomment the line below and run the code again.)\n",
        "    \n",
        "#     # tokenized_tweet[i] = ' '.join([word for word in tokenized_tweet[i] if word not in stop_words])  \n",
        "    \n",
        " train_data['processed_tweet'] = tokenized_tweet\n",
        "\n",
        " for i in range(len(tokenized_ttweet)):\n",
        "    \n",
        "#     # Below code is used for no stop word removal\n",
        "      tokenized_ttweet[i] = ' '.join(tokenized_ttweet[i]) \n",
        "    \n",
        "#     # Used for stop word removal \n",
        "#     # (Below is commented out as sentiment analysis is giving better accuracy without removing stop words.\n",
        "#     # If you still want to check, comment out the above line, uncomment the line below and run the code again.)\n",
        "     \n",
        "#     # tokenized_ttweet[i] = ' '.join([word for word in ttokenized_tweet[i] if word not in stop_words])  \n",
        "    \n",
        " test_data['processed_tweet'] = tokenized_ttweet\n",
        "\n",
        " for i in range(len(tokenized_tweet1)):\n",
        "    \n",
        "#     # Below code is used for no stop word removal\n",
        "      tokenized_tweet1[i] = ' '.join(tokenized_tweet1[i]) \n",
        "    \n",
        "#     # Used for stop word removal \n",
        "#     # (Below is commented out as sentiment analysis is giving better accuracy without removing stop words.\n",
        "#     # If you still want to check, comment out the above line, uncomment the line below and run the code again.)\n",
        "     \n",
        "#     # tokenized_tweet1[i] = ' '.join([word for word in tokenized_tweet1[i] if word not in stop_words])  \n",
        "    \n",
        " Policy_1['processed_tweet'] = tokenized_tweet1\n",
        "\n",
        " for i in range(len(tokenized_tweet2)):\n",
        "    \n",
        "#     # Below code is used for no stop word removal\n",
        "      tokenized_tweet2[i] = ' '.join(tokenized_tweet2[i]) \n",
        "    \n",
        "#     # Used for stop word removal \n",
        "#     # (Below is commented out as sentiment analysis is giving better accuracy without removing stop words.\n",
        "#     # If you still want to check, comment out the above line, uncomment the line below and run the code again.)\n",
        "     \n",
        "#     # tokenized_tweet2[i] = ' '.join([word for word in tokenized_tweet2[i] if word not in stop_words])  \n",
        "    \n",
        " Policy_2['processed_tweet'] = tokenized_tweet2\n",
        "\n",
        " for i in range(len(tokenized_tweet3)):\n",
        "    \n",
        "#     # Below code is used for no stop word removal\n",
        "      tokenized_tweet3[i] = ' '.join(tokenized_tweet3[i]) \n",
        "    \n",
        "#     # Used for stop word removal \n",
        "#     # (Below is commented out as sentiment analysis is giving better accuracy without removing stop words.\n",
        "#     # If you still want to check, comment out the above line, uncomment the line below and run the code again.)\n",
        "     \n",
        "#     # tokenized_tweet3[i] = ' '.join([word for word in tokenized_tweet3[i] if word not in stop_words])  \n",
        "    \n",
        " Policy_3['processed_tweet'] = tokenized_tweet3\n",
        "\n",
        " for i in range(len(tokenized_tweet4)):\n",
        "    \n",
        "#     # Below code is used for no stop word removal\n",
        "      tokenized_tweet4[i] = ' '.join(tokenized_tweet4[i]) \n",
        "    \n",
        "#     # Used for stop word removal \n",
        "#     # (Below is commented out as sentiment analysis is giving better accuracy without removing stop words.\n",
        "#     # If you still want to check, comment out the above line, uncomment the line below and run the code again.)\n",
        "     \n",
        "#     # tokenized_tweet4[i] = ' '.join([word for word in tokenized_tweet4[i] if word not in stop_words])  \n",
        "    \n",
        " Policy_4['processed_tweet'] = tokenized_tweet4\n",
        "\n",
        " for i in range(len(tokenized_tweet5)):\n",
        "    \n",
        "#     # Below code is used for no stop word removal\n",
        "      tokenized_tweet5[i] = ' '.join(tokenized_tweet5[i]) \n",
        "    \n",
        "#     # Used for stop word removal \n",
        "#     # (Below is commented out as sentiment analysis is giving better accuracy without removing stop words.\n",
        "#     # If you still want to check, comment out the above line, uncomment the line below and run the code again.)\n",
        "     \n",
        "#     # tokenized_tweet5[i] = ' '.join([word for word in tokenized_tweet5[i] if word not in stop_words])  \n",
        "    \n",
        " Policy_5['processed_tweet'] = tokenized_tweet5\n",
        "\n",
        " for i in range(len(tokenized_tweet6)):\n",
        "    \n",
        "#     # Below code is used for no stop word removal\n",
        "      tokenized_tweet6[i] = ' '.join(tokenized_tweet6[i]) \n",
        "    \n",
        "#     # Used for stop word removal \n",
        "#     # (Below is commented out as sentiment analysis is giving better accuracy without removing stop words.\n",
        "#     # If you still want to check, comment out the above line, uncomment the line below and run the code again.)\n",
        "     \n",
        "#     # tokenized_tweet6[i] = ' '.join([word for word in tokenized_tweet6[i] if word not in stop_words])  \n",
        "    \n",
        " Policy_6['processed_tweet'] = tokenized_tweet6\n",
        " '''"
      ],
      "metadata": {
        "id": "WpES8jKaa_Zp",
        "colab": {
          "base_uri": "https://localhost:8080/",
          "height": 140
        },
        "outputId": "779cc652-0bd9-4b1a-9f35-34cd6c08e889"
      },
      "execution_count": null,
      "outputs": [
        {
          "output_type": "execute_result",
          "data": {
            "application/vnd.google.colaboratory.intrinsic+json": {
              "type": "string"
            },
            "text/plain": [
              "\"\\n for i in range(len(tokenized_tweet)):\\n    \\n#     # Below code is used for no stop word removal\\n      tokenized_tweet[i] = ' '.join(tokenized_tweet[i]) \\n    \\n#     # Used for stop word removal \\n#     # (Below is commented out as sentiment analysis is giving better accuracy without removing stop words.\\n#     # If you still want to check, comment out the above line, uncomment the line below and run the code again.)\\n    \\n#     # tokenized_tweet[i] = ' '.join([word for word in tokenized_tweet[i] if word not in stop_words])  \\n    \\n train_data['processed_tweet'] = tokenized_tweet\\n\\n for i in range(len(tokenized_ttweet)):\\n    \\n#     # Below code is used for no stop word removal\\n      tokenized_ttweet[i] = ' '.join(tokenized_ttweet[i]) \\n    \\n#     # Used for stop word removal \\n#     # (Below is commented out as sentiment analysis is giving better accuracy without removing stop words.\\n#     # If you still want to check, comment out the above line, uncomment the line below and run the code again.)\\n     \\n#     # tokenized_ttweet[i] = ' '.join([word for word in ttokenized_tweet[i] if word not in stop_words])  \\n    \\n test_data['processed_tweet'] = tokenized_ttweet\\n\\n for i in range(len(tokenized_tweet1)):\\n    \\n#     # Below code is used for no stop word removal\\n      tokenized_tweet1[i] = ' '.join(tokenized_tweet1[i]) \\n    \\n#     # Used for stop word removal \\n#     # (Below is commented out as sentiment analysis is giving better accuracy without removing stop words.\\n#     # If you still want to check, comment out the above line, uncomment the line below and run the code again.)\\n     \\n#     # tokenized_tweet1[i] = ' '.join([word for word in tokenized_tweet1[i] if word not in stop_words])  \\n    \\n Policy_1['processed_tweet'] = tokenized_tweet1\\n\\n for i in range(len(tokenized_tweet2)):\\n    \\n#     # Below code is used for no stop word removal\\n      tokenized_tweet2[i] = ' '.join(tokenized_tweet2[i]) \\n    \\n#     # Used for stop word removal \\n#     # (Below is commented out as sentiment analysis is giving better accuracy without removing stop words.\\n#     # If you still want to check, comment out the above line, uncomment the line below and run the code again.)\\n     \\n#     # tokenized_tweet2[i] = ' '.join([word for word in tokenized_tweet2[i] if word not in stop_words])  \\n    \\n Policy_2['processed_tweet'] = tokenized_tweet2\\n\\n for i in range(len(tokenized_tweet3)):\\n    \\n#     # Below code is used for no stop word removal\\n      tokenized_tweet3[i] = ' '.join(tokenized_tweet3[i]) \\n    \\n#     # Used for stop word removal \\n#     # (Below is commented out as sentiment analysis is giving better accuracy without removing stop words.\\n#     # If you still want to check, comment out the above line, uncomment the line below and run the code again.)\\n     \\n#     # tokenized_tweet3[i] = ' '.join([word for word in tokenized_tweet3[i] if word not in stop_words])  \\n    \\n Policy_3['processed_tweet'] = tokenized_tweet3\\n\\n for i in range(len(tokenized_tweet4)):\\n    \\n#     # Below code is used for no stop word removal\\n      tokenized_tweet4[i] = ' '.join(tokenized_tweet4[i]) \\n    \\n#     # Used for stop word removal \\n#     # (Below is commented out as sentiment analysis is giving better accuracy without removing stop words.\\n#     # If you still want to check, comment out the above line, uncomment the line below and run the code again.)\\n     \\n#     # tokenized_tweet4[i] = ' '.join([word for word in tokenized_tweet4[i] if word not in stop_words])  \\n    \\n Policy_4['processed_tweet'] = tokenized_tweet4\\n\\n for i in range(len(tokenized_tweet5)):\\n    \\n#     # Below code is used for no stop word removal\\n      tokenized_tweet5[i] = ' '.join(tokenized_tweet5[i]) \\n    \\n#     # Used for stop word removal \\n#     # (Below is commented out as sentiment analysis is giving better accuracy without removing stop words.\\n#     # If you still want to check, comment out the above line, uncomment the line below and run the code again.)\\n     \\n#     # tokenized_tweet5[i] = ' '.join([word for word in tokenized_tweet5[i] if word not in stop_words])  \\n    \\n Policy_5['processed_tweet'] = tokenized_tweet5\\n\\n for i in range(len(tokenized_tweet6)):\\n    \\n#     # Below code is used for no stop word removal\\n      tokenized_tweet6[i] = ' '.join(tokenized_tweet6[i]) \\n    \\n#     # Used for stop word removal \\n#     # (Below is commented out as sentiment analysis is giving better accuracy without removing stop words.\\n#     # If you still want to check, comment out the above line, uncomment the line below and run the code again.)\\n     \\n#     # tokenized_tweet6[i] = ' '.join([word for word in tokenized_tweet6[i] if word not in stop_words])  \\n    \\n Policy_6['processed_tweet'] = tokenized_tweet6\\n \""
            ]
          },
          "metadata": {},
          "execution_count": 1
        }
      ]
    },
    {
      "cell_type": "code",
      "metadata": {
        "colab": {
          "base_uri": "https://localhost:8080/"
        },
        "id": "gAGIaeYnv61x",
        "outputId": "f539699f-c1c5-4b21-d644-14af18a3cd8f"
      },
      "source": [
        "from sklearn.feature_extraction.text import CountVectorizer\n",
        "\n",
        "count_vectorizer = CountVectorizer(ngram_range=(1,2))    # Unigram and Bigram\n",
        "final_vectorized_train_data = count_vectorizer.fit_transform(train_data['processed_tweet'])  \n",
        "final_vectorized_test_data = count_vectorizer.transform(test_data['processed_tweet'])\n",
        "final_vectorized_policy1_data = count_vectorizer.transform(Policy_1['processed_tweet'])\n",
        "final_vectorized_policy2_data = count_vectorizer.transform(Policy_2['processed_tweet'])\n",
        "final_vectorized_policy3_data = count_vectorizer.transform(Policy_3['processed_tweet'])\n",
        "final_vectorized_policy4_data = count_vectorizer.transform(Policy_4['processed_tweet'])\n",
        "final_vectorized_policy5_data = count_vectorizer.transform(Policy_5['processed_tweet'])\n",
        "final_vectorized_policy6_data = count_vectorizer.transform(Policy_6['processed_tweet'])\n",
        "final_vectorized_train_data, final_vectorized_test_data, final_vectorized_policy1_data, final_vectorized_policy2_data, final_vectorized_policy3_data, final_vectorized_policy4_data, final_vectorized_policy5_data, final_vectorized_policy6_data"
      ],
      "execution_count": null,
      "outputs": [
        {
          "output_type": "execute_result",
          "data": {
            "text/plain": [
              "(<30000x192500 sparse matrix of type '<class 'numpy.int64'>'\n",
              " \twith 993835 stored elements in Compressed Sparse Row format>,\n",
              " <193262x192500 sparse matrix of type '<class 'numpy.int64'>'\n",
              " \twith 3748383 stored elements in Compressed Sparse Row format>,\n",
              " <10001x192500 sparse matrix of type '<class 'numpy.int64'>'\n",
              " \twith 389381 stored elements in Compressed Sparse Row format>,\n",
              " <10001x192500 sparse matrix of type '<class 'numpy.int64'>'\n",
              " \twith 392959 stored elements in Compressed Sparse Row format>,\n",
              " <10001x192500 sparse matrix of type '<class 'numpy.int64'>'\n",
              " \twith 380013 stored elements in Compressed Sparse Row format>,\n",
              " <10001x192500 sparse matrix of type '<class 'numpy.int64'>'\n",
              " \twith 406943 stored elements in Compressed Sparse Row format>,\n",
              " <2672x192500 sparse matrix of type '<class 'numpy.int64'>'\n",
              " \twith 123670 stored elements in Compressed Sparse Row format>,\n",
              " <10001x192500 sparse matrix of type '<class 'numpy.int64'>'\n",
              " \twith 321827 stored elements in Compressed Sparse Row format>)"
            ]
          },
          "metadata": {},
          "execution_count": 43
        }
      ]
    },
    {
      "cell_type": "code",
      "source": [
        "clustering_policy1 = final_vectorized_policy1_data\n",
        "clustering_policy2 = final_vectorized_policy2_data\n",
        "clustering_policy3 = final_vectorized_policy3_data\n",
        "clustering_policy4 = final_vectorized_policy4_data\n",
        "clustering_policy5 = final_vectorized_policy5_data\n",
        "clustering_policy6 = final_vectorized_policy6_data"
      ],
      "metadata": {
        "id": "mJNlqgRy5qb2"
      },
      "execution_count": null,
      "outputs": []
    },
    {
      "cell_type": "code",
      "metadata": {
        "id": "AOOlWdZ-7OPU"
      },
      "source": [
        "from sklearn.model_selection import train_test_split\n",
        "X_train, X_val, y_train, y_val = train_test_split(final_vectorized_train_data, train_data[sentiment],\n",
        "                                                    test_size=0.2, random_state=69)"
      ],
      "execution_count": null,
      "outputs": []
    },
    {
      "cell_type": "code",
      "metadata": {
        "id": "k0rJjpaZ7iNp"
      },
      "source": [
        "from sklearn.naive_bayes import MultinomialNB  \n",
        "\n",
        "classifier = MultinomialNB()\n",
        "classifier.fit(X_train, y_train)\n",
        "\n",
        "validation_nb = classifier.predict(X_val)"
      ],
      "execution_count": null,
      "outputs": []
    },
    {
      "cell_type": "code",
      "metadata": {
        "colab": {
          "base_uri": "https://localhost:8080/"
        },
        "id": "JwUE3ayE7mK0",
        "outputId": "002f2f9e-d80e-4ee6-c6b8-b6628adde24a"
      },
      "source": [
        "score_naive = accuracy_score(validation_nb, y_val)\n",
        "print(\"Accuracy with Naive-bayes: \",score_naive)"
      ],
      "execution_count": null,
      "outputs": [
        {
          "output_type": "stream",
          "name": "stdout",
          "text": [
            "Accuracy with Naive-bayes:  0.60225\n"
          ]
        }
      ]
    },
    {
      "cell_type": "code",
      "source": [
        "from sklearn.svm import SVC\n",
        "\n",
        "classifier = SVC(kernel = 'linear', random_state=0)\n",
        "classifier.fit(X_train, y_train)\n",
        "\n",
        "validation_classifier = classifier.predict(X_val)"
      ],
      "metadata": {
        "id": "JGkvDTmQbvew"
      },
      "execution_count": null,
      "outputs": []
    },
    {
      "cell_type": "code",
      "source": [
        "score_classifier = accuracy_score(validation_classifier, y_val)\n",
        "print(\"Accuracy with SVM: \",score_classifier)"
      ],
      "metadata": {
        "id": "73IK7G_Nb01_",
        "colab": {
          "base_uri": "https://localhost:8080/"
        },
        "outputId": "73bb18d7-0f88-4160-c01b-8e88fafbef66"
      },
      "execution_count": null,
      "outputs": [
        {
          "output_type": "stream",
          "name": "stdout",
          "text": [
            "Accuracy with SVM:  0.635\n"
          ]
        }
      ]
    },
    {
      "cell_type": "code",
      "source": [
        "test_classifier = classifier.predict(final_vectorized_test_data)\n",
        "policy1_classifier = classifier.predict(final_vectorized_policy1_data)\n",
        "policy2_classifier = classifier.predict(final_vectorized_policy2_data)\n",
        "policy3_classifier = classifier.predict(final_vectorized_policy3_data)\n",
        "policy4_classifier = classifier.predict(final_vectorized_policy4_data)\n",
        "policy5_classifier = classifier.predict(final_vectorized_policy5_data)\n",
        "policy6_classifier = classifier.predict(final_vectorized_policy6_data)"
      ],
      "metadata": {
        "id": "kXr-l4uftKg4"
      },
      "execution_count": null,
      "outputs": []
    },
    {
      "cell_type": "code",
      "metadata": {
        "colab": {
          "base_uri": "https://localhost:8080/"
        },
        "id": "KpzWbG9_O2vC",
        "outputId": "826ae7c7-42c7-44af-ab79-c5286ff95a20"
      },
      "source": [
        "df = pd.DataFrame()\n",
        "df['Predicted_vals'] = test_classifier\n",
        "df['Predicted_vals'].value_counts()"
      ],
      "execution_count": null,
      "outputs": [
        {
          "output_type": "execute_result",
          "data": {
            "text/plain": [
              "1    125867\n",
              "0     34357\n",
              "2     25420\n",
              "3      7560\n",
              "4        58\n",
              "Name: Predicted_vals, dtype: int64"
            ]
          },
          "metadata": {},
          "execution_count": 25
        }
      ]
    },
    {
      "cell_type": "code",
      "metadata": {
        "colab": {
          "base_uri": "https://localhost:8080/"
        },
        "id": "rt77piBdCLSb",
        "outputId": "9ceb6fea-f47a-4870-ce5a-5122ea174725"
      },
      "source": [
        "df1 = pd.DataFrame()\n",
        "df1['Policy_1_vals'] = policy1_classifier\n",
        "df1['Policy_1_vals'].value_counts()"
      ],
      "execution_count": null,
      "outputs": [
        {
          "output_type": "execute_result",
          "data": {
            "text/plain": [
              "1    9849\n",
              "0      91\n",
              "2      61\n",
              "Name: Policy_1_vals, dtype: int64"
            ]
          },
          "metadata": {},
          "execution_count": 23
        }
      ]
    },
    {
      "cell_type": "code",
      "metadata": {
        "colab": {
          "base_uri": "https://localhost:8080/"
        },
        "id": "K68eYXGWCrYU",
        "outputId": "7d0699e5-e583-4ba9-b8e3-3b4808aaf467"
      },
      "source": [
        "df2 = pd.DataFrame()\n",
        "df2['Policy_2_vals'] = policy2_classifier\n",
        "df2['Policy_2_vals'].value_counts()"
      ],
      "execution_count": null,
      "outputs": [
        {
          "output_type": "execute_result",
          "data": {
            "text/plain": [
              "1    9449\n",
              "2     414\n",
              "3      80\n",
              "0      58\n",
              "Name: Policy_2_vals, dtype: int64"
            ]
          },
          "metadata": {},
          "execution_count": 24
        }
      ]
    },
    {
      "cell_type": "code",
      "metadata": {
        "colab": {
          "base_uri": "https://localhost:8080/"
        },
        "id": "2Qed75JZC3Eg",
        "outputId": "47af1d0d-4f63-4dc4-fb87-a42f4cb613f6"
      },
      "source": [
        "df3 = pd.DataFrame()\n",
        "df3['Policy_3_vals'] = policy3_classifier\n",
        "df3['Policy_3_vals'].value_counts()"
      ],
      "execution_count": null,
      "outputs": [
        {
          "output_type": "execute_result",
          "data": {
            "text/plain": [
              "1    9875\n",
              "0      74\n",
              "2      50\n",
              "3       2\n",
              "Name: Policy_3_vals, dtype: int64"
            ]
          },
          "metadata": {},
          "execution_count": 26
        }
      ]
    },
    {
      "cell_type": "code",
      "metadata": {
        "colab": {
          "base_uri": "https://localhost:8080/"
        },
        "id": "dhAzretfC_JG",
        "outputId": "a2b09dec-d7e5-4775-ba05-6d6714849d20"
      },
      "source": [
        "df4 = pd.DataFrame()\n",
        "df4['Policy_4_vals'] = policy4_classifier\n",
        "df4['Policy_4_vals'].value_counts()"
      ],
      "execution_count": null,
      "outputs": [
        {
          "output_type": "execute_result",
          "data": {
            "text/plain": [
              "1    9500\n",
              "0     406\n",
              "2      57\n",
              "3      38\n",
              "Name: Policy_4_vals, dtype: int64"
            ]
          },
          "metadata": {},
          "execution_count": 27
        }
      ]
    },
    {
      "cell_type": "code",
      "metadata": {
        "colab": {
          "base_uri": "https://localhost:8080/"
        },
        "id": "NeQKQdt6DFYP",
        "outputId": "6a50c0ac-8a49-48e9-9c89-c95b113c5e96"
      },
      "source": [
        "df5 = pd.DataFrame()\n",
        "df5['Policy_5_vals'] = policy5_classifier\n",
        "df5['Policy_5_vals'].value_counts()"
      ],
      "execution_count": null,
      "outputs": [
        {
          "output_type": "execute_result",
          "data": {
            "text/plain": [
              "1    2645\n",
              "0      19\n",
              "2       7\n",
              "3       1\n",
              "Name: Policy_5_vals, dtype: int64"
            ]
          },
          "metadata": {},
          "execution_count": 28
        }
      ]
    },
    {
      "cell_type": "code",
      "metadata": {
        "colab": {
          "base_uri": "https://localhost:8080/"
        },
        "id": "KSbdugyjDU8b",
        "outputId": "51b85361-03e5-4fbd-aa73-befd0554ae62"
      },
      "source": [
        "df6 = pd.DataFrame()\n",
        "df6['Policy_6_vals'] = policy6_classifier\n",
        "df6['Policy_6_vals'].value_counts()"
      ],
      "execution_count": null,
      "outputs": [
        {
          "output_type": "execute_result",
          "data": {
            "text/plain": [
              "1    8896\n",
              "2     484\n",
              "0     480\n",
              "3     140\n",
              "4       1\n",
              "Name: Policy_6_vals, dtype: int64"
            ]
          },
          "metadata": {},
          "execution_count": 29
        }
      ]
    },
    {
      "cell_type": "code",
      "metadata": {
        "id": "6Q3LV1zRUnHn"
      },
      "source": [
        "Result_df = pd.concat([test_data, df], axis=1)\n",
        "Business_Restriction = pd.concat([Policy_1, df1], axis=1)\n",
        "Health_Testing = pd.concat([Policy_2, df2], axis=1)\n",
        "Lockdown = pd.concat([Policy_3, df3], axis=1)\n",
        "Mask_Mandate = pd.concat([Policy_4, df4], axis=1)\n",
        "Mass_Gathering = pd.concat([Policy_5, df5], axis=1)\n",
        "Vaccine = pd.concat([Policy_6, df6], axis=1)"
      ],
      "execution_count": null,
      "outputs": []
    },
    {
      "cell_type": "code",
      "metadata": {
        "colab": {
          "base_uri": "https://localhost:8080/",
          "height": 419
        },
        "id": "FLC3PHHyVlR_",
        "outputId": "cf50675b-5e1c-4696-cb68-0aba719a2672"
      },
      "source": [
        "#Result_df\n",
        "#Business_Restriction\n",
        "#Lockdown\n",
        "#Mask_Mandate\n",
        "#Mass_Gathering \n",
        "#Vaccine\n",
        "Health_Testing"
      ],
      "execution_count": null,
      "outputs": [
        {
          "output_type": "execute_result",
          "data": {
            "text/html": [
              "<div>\n",
              "<style scoped>\n",
              "    .dataframe tbody tr th:only-of-type {\n",
              "        vertical-align: middle;\n",
              "    }\n",
              "\n",
              "    .dataframe tbody tr th {\n",
              "        vertical-align: top;\n",
              "    }\n",
              "\n",
              "    .dataframe thead th {\n",
              "        text-align: right;\n",
              "    }\n",
              "</style>\n",
              "<table border=\"1\" class=\"dataframe\">\n",
              "  <thead>\n",
              "    <tr style=\"text-align: right;\">\n",
              "      <th></th>\n",
              "      <th>Tweets</th>\n",
              "      <th>processed_tweet</th>\n",
              "      <th>Policy_2_vals</th>\n",
              "    </tr>\n",
              "  </thead>\n",
              "  <tbody>\n",
              "    <tr>\n",
              "      <th>0</th>\n",
              "      <td>@NEGameandParks @NeblandMagazine @DrAndrewLitt...</td>\n",
              "      <td>thanks for sharing the info about testing dee...</td>\n",
              "      <td>2</td>\n",
              "    </tr>\n",
              "    <tr>\n",
              "      <th>1</th>\n",
              "      <td>So, I don’t understand the NBA’s covid health ...</td>\n",
              "      <td>so don understand the nba covid health and saf...</td>\n",
              "      <td>1</td>\n",
              "    </tr>\n",
              "    <tr>\n",
              "      <th>2</th>\n",
              "      <td>@Karen22912 To me,it’s still compliance &amp;amp; ...</td>\n",
              "      <td>to me it still compliance amp bodily autonomy...</td>\n",
              "      <td>1</td>\n",
              "    </tr>\n",
              "    <tr>\n",
              "      <th>3</th>\n",
              "      <td>COVID-19 Vaccination and Testing ETS | Occupat...</td>\n",
              "      <td>covid vaccination and testing ets occupational...</td>\n",
              "      <td>1</td>\n",
              "    </tr>\n",
              "    <tr>\n",
              "      <th>4</th>\n",
              "      <td>#RUSSELL COVID testing is available by appoint...</td>\n",
              "      <td>russell covid testing is available by appoint...</td>\n",
              "      <td>2</td>\n",
              "    </tr>\n",
              "    <tr>\n",
              "      <th>...</th>\n",
              "      <td>...</td>\n",
              "      <td>...</td>\n",
              "      <td>...</td>\n",
              "    </tr>\n",
              "    <tr>\n",
              "      <th>9996</th>\n",
              "      <td>Are booster the answer now and at what interva...</td>\n",
              "      <td>are booster the answer now and at what interva...</td>\n",
              "      <td>1</td>\n",
              "    </tr>\n",
              "    <tr>\n",
              "      <th>9997</th>\n",
              "      <td>Stakeholder voices in health policy - Pearls a...</td>\n",
              "      <td>stakeholder voices in health policy pearls and...</td>\n",
              "      <td>1</td>\n",
              "    </tr>\n",
              "    <tr>\n",
              "      <th>9998</th>\n",
              "      <td>As Valley Covid-19 testing numbers rise, Embry...</td>\n",
              "      <td>as valley covid testing numbers rise embry hea...</td>\n",
              "      <td>1</td>\n",
              "    </tr>\n",
              "    <tr>\n",
              "      <th>9999</th>\n",
              "      <td>@OU_President Require masks. \\n\\nRequire vacci...</td>\n",
              "      <td>require masks require vaccines enforce quaran...</td>\n",
              "      <td>1</td>\n",
              "    </tr>\n",
              "    <tr>\n",
              "      <th>10000</th>\n",
              "      <td>Local health officials pushing for more COVID ...</td>\n",
              "      <td>local health officials pushing for more covid ...</td>\n",
              "      <td>1</td>\n",
              "    </tr>\n",
              "  </tbody>\n",
              "</table>\n",
              "<p>10001 rows × 3 columns</p>\n",
              "</div>"
            ],
            "text/plain": [
              "                                                  Tweets  ... Policy_2_vals\n",
              "0      @NEGameandParks @NeblandMagazine @DrAndrewLitt...  ...             2\n",
              "1      So, I don’t understand the NBA’s covid health ...  ...             1\n",
              "2      @Karen22912 To me,it’s still compliance &amp; ...  ...             1\n",
              "3      COVID-19 Vaccination and Testing ETS | Occupat...  ...             1\n",
              "4      #RUSSELL COVID testing is available by appoint...  ...             2\n",
              "...                                                  ...  ...           ...\n",
              "9996   Are booster the answer now and at what interva...  ...             1\n",
              "9997   Stakeholder voices in health policy - Pearls a...  ...             1\n",
              "9998   As Valley Covid-19 testing numbers rise, Embry...  ...             1\n",
              "9999   @OU_President Require masks. \\n\\nRequire vacci...  ...             1\n",
              "10000  Local health officials pushing for more COVID ...  ...             1\n",
              "\n",
              "[10001 rows x 3 columns]"
            ]
          },
          "metadata": {},
          "execution_count": 31
        }
      ]
    },
    {
      "cell_type": "code",
      "metadata": {
        "id": "YqcmDBODXnGC"
      },
      "source": [
        "Result_df.to_csv('Predicted_Test.csv')\n",
        "Business_Restriction.to_csv('Policy1.csv')\n",
        "Health_Testing.to_csv('Policy2.csv')\n",
        "Lockdown.to_csv('Policy3.csv')\n",
        "Mask_Mandate.to_csv('Policy4.csv')\n",
        "Mass_Gathering .to_csv('Policy5.csv')\n",
        "Vaccine.to_csv('Policy6.csv')"
      ],
      "execution_count": null,
      "outputs": []
    },
    {
      "cell_type": "markdown",
      "source": [
        "**K - Means**"
      ],
      "metadata": {
        "id": "J_gqAqCtY71m"
      }
    },
    {
      "cell_type": "code",
      "source": [
        "from sklearn.cluster import KMeans\n",
        "from sklearn.feature_selection import SelectKBest\n",
        "import matplotlib.pyplot as plt"
      ],
      "metadata": {
        "id": "JCcl9G7TX-f_"
      },
      "execution_count": null,
      "outputs": []
    },
    {
      "cell_type": "code",
      "source": [
        "wcss = []\n",
        "for i in range(1, 15):\n",
        "    kmeans = KMeans(n_clusters = i, init = 'k-means++', random_state = 42).fit(clustering_policy1) #use other policies if you like but it would yield the same results. \n",
        "    wcss.append(kmeans.inertia_)"
      ],
      "metadata": {
        "id": "tOLjhcwi-J7A"
      },
      "execution_count": null,
      "outputs": []
    },
    {
      "cell_type": "code",
      "source": [
        "plt.plot(range(1, 15), wcss)\n",
        "plt.title('The Elbow Method')\n",
        "plt.xlabel('Number of clusters')\n",
        "plt.ylabel('WCSS')\n",
        "plt.show()"
      ],
      "metadata": {
        "colab": {
          "base_uri": "https://localhost:8080/",
          "height": 398
        },
        "id": "Pm9GJQ7X-QRL",
        "outputId": "28148b05-b387-48be-a1d0-341166f3220f"
      },
      "execution_count": null,
      "outputs": [
        {
          "output_type": "display_data",
          "data": {
            "image/png": "[encoded data removed]",
            "text/plain": [
              "<Figure size 576x396 with 1 Axes>"
            ]
          },
          "metadata": {}
        }
      ]
    },
    {
      "cell_type": "code",
      "source": [
        "from yellowbrick.cluster import KElbowVisualizer\n",
        "\n",
        "model = KMeans(random_state=0)\n",
        "\n",
        "visualizer = KElbowVisualizer(model, k=(2,15), metric='silhouette', timings=False)\n",
        "\n",
        "visualizer.fit(clustering_policy1)    \n",
        "visualizer.poof() "
      ],
      "metadata": {
        "colab": {
          "base_uri": "https://localhost:8080/",
          "height": 415
        },
        "id": "Dgf80pMTWreL",
        "outputId": "13714432-43dd-483b-c672-0b926ea441a8"
      },
      "execution_count": null,
      "outputs": [
        {
          "output_type": "display_data",
          "data": {
            "image/png": "[encoded data removed]",
            "text/plain": [
              "<Figure size 576x396 with 1 Axes>"
            ]
          },
          "metadata": {}
        },
        {
          "output_type": "execute_result",
          "data": {
            "text/plain": [
              "<matplotlib.axes._subplots.AxesSubplot at 0x7f0033dbda50>"
            ]
          },
          "metadata": {},
          "execution_count": 42
        }
      ]
    },
    {
      "cell_type": "code",
      "source": [
        "while True:pass"
      ],
      "metadata": {
        "id": "ldGPwvpS-icG"
      },
      "execution_count": null,
      "outputs": []
    }
  ]
}